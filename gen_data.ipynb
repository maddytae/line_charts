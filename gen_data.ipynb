{
 "cells": [
  {
   "cell_type": "code",
   "execution_count": 9,
   "id": "1106f6b8-7175-44da-8a8b-d8ec4c50bc73",
   "metadata": {},
   "outputs": [],
   "source": [
    "import pandas as pd\n",
    "import numpy as np\n",
    "\n",
    "# Generating a sample DataFrame\n",
    "np.random.seed(0)  # for reproducible results\n",
    "\n",
    "# Sample data parameters\n",
    "countries = ['CountryA', 'CountryB', 'CountryC']\n",
    "cities = {'CountryA': ['large','small'], 'CountryB': ['large','small'], 'CountryC': ['large','small']}\n",
    "scenarios = ['mild', 'extreme', 'very extreme']\n",
    "periods = [f'PQ{i}' for i in range(-4,13)]\n",
    "axis_types = ['temperature', 'rainfall']\n",
    "\n",
    "# Create DataFrame\n",
    "records = []\n",
    "for country in countries:\n",
    "    for city in cities[country]:\n",
    "        for scenario in scenarios:\n",
    "            for period in periods:\n",
    "                for axis in axis_types:\n",
    "                    value = np.random.uniform(20, 30) if axis == 'temperature' else np.random.uniform(00, 2000)\n",
    "                    records.append([country, city, scenario, period, value, axis])\n",
    "\n",
    "df = pd.DataFrame(records, columns=['Country', 'City', 'Scenario', 'Period', 'Value', 'Type'])\n",
    "\n",
    "# Saving DataFrame to CSV\n",
    "csv_file_path = 'sample_data.csv'\n",
    "df.to_csv(csv_file_path, index=False)\n",
    "\n",
    "\n",
    "\n"
   ]
  },
  {
   "cell_type": "code",
   "execution_count": null,
   "id": "8984c06a-90da-4fc3-bdf1-89d4a9eea182",
   "metadata": {},
   "outputs": [],
   "source": []
  }
 ],
 "metadata": {
  "kernelspec": {
   "display_name": "py_env",
   "language": "python",
   "name": "py_env"
  },
  "language_info": {
   "codemirror_mode": {
    "name": "ipython",
    "version": 3
   },
   "file_extension": ".py",
   "mimetype": "text/x-python",
   "name": "python",
   "nbconvert_exporter": "python",
   "pygments_lexer": "ipython3",
   "version": "3.11.5"
  }
 },
 "nbformat": 4,
 "nbformat_minor": 5
}
